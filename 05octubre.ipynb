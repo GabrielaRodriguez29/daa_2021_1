{
  "nbformat": 4,
  "nbformat_minor": 0,
  "metadata": {
    "colab": {
      "name": "05octubre.ipynb",
      "provenance": [],
      "authorship_tag": "ABX9TyNfPoBMx/UGC8ZnM98UtTng",
      "include_colab_link": true
    },
    "kernelspec": {
      "name": "python3",
      "display_name": "Python 3"
    }
  },
  "cells": [
    {
      "cell_type": "markdown",
      "metadata": {
        "id": "view-in-github",
        "colab_type": "text"
      },
      "source": [
        "<a href=\"https://colab.research.google.com/github/GabrielaRodriguez29/daa_2021_1/blob/master/05octubre.ipynb\" target=\"_parent\"><img src=\"https://colab.research.google.com/assets/colab-badge.svg\" alt=\"Open In Colab\"/></a>"
      ]
    },
    {
      "cell_type": "markdown",
      "metadata": {
        "id": "B6VO4gZ1_oF_"
      },
      "source": [
        "#Estructurasde datos Pilas (Stack)\n",
        "-Last in First out (LIFO)\n",
        "-De tipo lineal\n",
        "-Se pueden obtener e ingresar datos desde el tope\n",
        "-Push para agregar\n",
        "-Pop para sacar\n",
        "\n",
        "##Operaciones de las pilas.\n",
        "1. Verificar si esta vacio is_empty(regresa true o false)\n",
        "2. et_tope (regresa el elemento en el tope, sin sacarlo)\n",
        "3. pop (saca el elemento del tope y lo regresa)\n",
        "4. push (mete un elemeto en el tope)\n",
        "5. get_lenght (regresa el numero de elementos en la pila)"
      ]
    },
    {
      "cell_type": "code",
      "metadata": {
        "id": "I1pc3rMs_kus"
      },
      "source": [
        "class Stack():\n",
        "  def __init__ (self):\n",
        "    self.__datos=[]\n",
        "  def is_empty(self):\n",
        "    return len(self.__datos)==0\n",
        "  def get_top(self):\n",
        "    return self.__datos[-1]\n",
        "  def pop(self):\n",
        "    return self.__datos.pop()\n",
        "  def push(self, valor):\n",
        "    self.__datos.append(valor)\n",
        "  def get_lenght(self):\n",
        "    return len(self.__datos)\n",
        "  def to_string(self):\n",
        "    print(\"-------------\")\n",
        "    for ele in self.__datos[-1::-1]:\n",
        "      print(f\"{ele}\")\n",
        "    print(\"--------------\\n\")\n",
        "  \n"
      ],
      "execution_count": 66,
      "outputs": []
    },
    {
      "cell_type": "code",
      "metadata": {
        "id": "JP0qhxzfNszO",
        "outputId": "34a7205f-1ae0-4df1-db1d-9995bc0562dd",
        "colab": {
          "base_uri": "https://localhost:8080/",
          "height": 690
        }
      },
      "source": [
        "pila1= Stack()\n",
        "pila1.push(10)\n",
        "pila1.push(20)\n",
        "pila1.push(1)\n",
        "pila1.push(393)\n",
        "pila1.push(103)\n",
        "pila1.to_string()\n",
        "\n",
        "sacado= pila1.pop()\n",
        "print(sacado)\n",
        "pila1.to_string()\n",
        "\n",
        "pila1.push(444)\n",
        "pila1.push(233)\n",
        "pila1.to_string()\n",
        "\n",
        "print(f\"El elemento en el tope es:{pila1.get_top()}\")\n",
        "pila1.to_string()\n",
        "print(f\"la pila tiene {pila1.get_lenght()} elementos\")\n",
        "print(f\"¿La pila esta vacia?: {pila1.is_empty()}\")"
      ],
      "execution_count": 68,
      "outputs": [
        {
          "output_type": "stream",
          "text": [
            "-------------\n",
            "103\n",
            "393\n",
            "1\n",
            "20\n",
            "10\n",
            "--------------\n",
            "\n",
            "103\n",
            "-------------\n",
            "393\n",
            "1\n",
            "20\n",
            "10\n",
            "--------------\n",
            "\n",
            "-------------\n",
            "233\n",
            "444\n",
            "393\n",
            "1\n",
            "20\n",
            "10\n",
            "--------------\n",
            "\n",
            "El elemento en el tope es:233\n",
            "-------------\n",
            "233\n",
            "444\n",
            "393\n",
            "1\n",
            "20\n",
            "10\n",
            "--------------\n",
            "\n",
            "la pila tiene 6 elementos\n",
            "¿La pila esta vacia?: False\n"
          ],
          "name": "stdout"
        }
      ]
    }
  ]
}