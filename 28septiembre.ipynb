{
  "nbformat": 4,
  "nbformat_minor": 0,
  "metadata": {
    "colab": {
      "name": "28septiembre.ipynb",
      "provenance": [],
      "authorship_tag": "ABX9TyOS+qkwHIISTe5sXTf+dI4W",
      "include_colab_link": true
    },
    "kernelspec": {
      "name": "python3",
      "display_name": "Python 3"
    }
  },
  "cells": [
    {
      "cell_type": "markdown",
      "metadata": {
        "id": "view-in-github",
        "colab_type": "text"
      },
      "source": [
        "<a href=\"https://colab.research.google.com/github/GabrielaRodriguez29/daa_2021_1/blob/master/28septiembre.ipynb\" target=\"_parent\"><img src=\"https://colab.research.google.com/assets/colab-badge.svg\" alt=\"Open In Colab\"/></a>"
      ]
    },
    {
      "cell_type": "markdown",
      "metadata": {
        "id": "-0wS1fy4CxwF"
      },
      "source": [
        "Seccion 1"
      ]
    },
    {
      "cell_type": "markdown",
      "metadata": {
        "id": "QjjDY-STDHUl"
      },
      "source": [
        "En este archivo aprenderemos a progamar en python con la herramienta de Google Colab.resach, tambien aprenderemos a guardar nuestros cambios a nuestro repositorio de github.com"
      ]
    },
    {
      "cell_type": "markdown",
      "metadata": {
        "id": "dP6R1njKD0Qk"
      },
      "source": [
        "##Codigo de ejemplo\n",
        "**Negritas**\n",
        "_Italica_\n",
        "`Edad= 10\n",
        "print(edad)`"
      ]
    },
    {
      "cell_type": "code",
      "metadata": {
        "id": "oUkc24ueGgW7",
        "outputId": "0f58557e-9d26-4f76-a328-a26b34b6870d",
        "colab": {
          "base_uri": "https://localhost:8080/",
          "height": 34
        }
      },
      "source": [
        "frutas=[]\n",
        "frutas.append('Manzana')\n",
        "frutas.append('piña')\n",
        "frutas.append('kiwi')\n",
        "print(frutas)\n"
      ],
      "execution_count": 1,
      "outputs": [
        {
          "output_type": "stream",
          "text": [
            "['Manzana', 'piña', 'kiwi']\n"
          ],
          "name": "stdout"
        }
      ]
    },
    {
      "cell_type": "code",
      "metadata": {
        "id": "FCDxMvziHus7"
      },
      "source": [
        "archivo= open('prueba_daa.txt','wt')\n",
        "archivo.write(\"Hola , mundo Jupyter\")\n",
        "archivo.close()"
      ],
      "execution_count": 2,
      "outputs": []
    }
  ]
}