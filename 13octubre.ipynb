{
  "nbformat": 4,
  "nbformat_minor": 0,
  "metadata": {
    "colab": {
      "name": "13octubre.ipynb",
      "provenance": [],
      "authorship_tag": "ABX9TyPM3QZwFfB4Mv20UzbT5cKh",
      "include_colab_link": true
    },
    "kernelspec": {
      "name": "python3",
      "display_name": "Python 3"
    }
  },
  "cells": [
    {
      "cell_type": "markdown",
      "metadata": {
        "id": "view-in-github",
        "colab_type": "text"
      },
      "source": [
        "<a href=\"https://colab.research.google.com/github/GabrielaRodriguez29/daa_2021_1/blob/master/13octubre.ipynb\" target=\"_parent\"><img src=\"https://colab.research.google.com/assets/colab-badge.svg\" alt=\"Open In Colab\"/></a>"
      ]
    },
    {
      "cell_type": "code",
      "metadata": {
        "id": "6T8EsoqI4L-a",
        "outputId": "425b9b5d-6e93-438f-f7ad-d4415ee44d4b",
        "colab": {
          "base_uri": "https://localhost:8080/",
          "height": 35
        }
      },
      "source": [
        "arreglo = [[2, 2, 2, 2], [ 4, 4, 4, 4]] \n",
        "tt= 0\n",
        "for n in range(len(arreglo)):\n",
        "    for m in range(len(arreglo[r])):\n",
        "        tt += arreglo[n][m]\n",
        "print(tt+1)"
      ],
      "execution_count": 3,
      "outputs": [
        {
          "output_type": "stream",
          "text": [
            "25\n"
          ],
          "name": "stdout"
        }
      ]
    }
  ]
}