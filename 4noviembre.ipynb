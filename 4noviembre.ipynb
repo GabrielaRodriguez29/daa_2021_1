{
  "nbformat": 4,
  "nbformat_minor": 0,
  "metadata": {
    "colab": {
      "name": "4noviembre.ipynb",
      "provenance": [],
      "authorship_tag": "ABX9TyOnbpDdHMoqNjfKlVvJuNU6",
      "include_colab_link": true
    },
    "kernelspec": {
      "name": "python3",
      "display_name": "Python 3"
    }
  },
  "cells": [
    {
      "cell_type": "markdown",
      "metadata": {
        "id": "view-in-github",
        "colab_type": "text"
      },
      "source": [
        "<a href=\"https://colab.research.google.com/github/GabrielaRodriguez29/daa_2021_1/blob/master/4noviembre.ipynb\" target=\"_parent\"><img src=\"https://colab.research.google.com/assets/colab-badge.svg\" alt=\"Open In Colab\"/></a>"
      ]
    },
    {
      "cell_type": "code",
      "metadata": {
        "id": "CT81jGWv0uGO",
        "outputId": "0f3e2807-8dfd-4f80-ffc7-0e24c2f4d24e",
        "colab": {
          "base_uri": "https://localhost:8080/"
        }
      },
      "source": [
        "contador = 0\n",
        "horas=[]\n",
        "for hor_izq in range (3):\n",
        "    for hor_der in range(10):\n",
        "        if hor_izq ==2 and hor_der >=4 :\n",
        "            continue\n",
        "        for min_izq in range(6):\n",
        "            for min_der in range(10):\n",
        "                if hor_izq == min_der  and   hor_der == min_izq:\n",
        "                    print(f\" {hor_izq}{hor_der}:{min_izq}{min_der}\")\n",
        "                    contador += 1\n",
        "\n",
        "print(f\"Se encontraron {contador} palíndromos\")"
      ],
      "execution_count": 1,
      "outputs": [
        {
          "output_type": "stream",
          "text": [
            " 00:00\n",
            " 01:10\n",
            " 02:20\n",
            " 03:30\n",
            " 04:40\n",
            " 05:50\n",
            " 10:01\n",
            " 11:11\n",
            " 12:21\n",
            " 13:31\n",
            " 14:41\n",
            " 15:51\n",
            " 20:02\n",
            " 21:12\n",
            " 22:22\n",
            " 23:32\n",
            "Se encontraron 16 palíndromos\n"
          ],
          "name": "stdout"
        }
      ]
    }
  ]
}