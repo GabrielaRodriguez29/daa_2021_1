{
  "nbformat": 4,
  "nbformat_minor": 0,
  "metadata": {
    "colab": {
      "name": "07octube.ipynb",
      "provenance": [],
      "authorship_tag": "ABX9TyNjT7FgiE3eHUgpX237FHji",
      "include_colab_link": true
    },
    "kernelspec": {
      "name": "python3",
      "display_name": "Python 3"
    }
  },
  "cells": [
    {
      "cell_type": "markdown",
      "metadata": {
        "id": "view-in-github",
        "colab_type": "text"
      },
      "source": [
        "<a href=\"https://colab.research.google.com/github/GabrielaRodriguez29/daa_2021_1/blob/master/07octube.ipynb\" target=\"_parent\"><img src=\"https://colab.research.google.com/assets/colab-badge.svg\" alt=\"Open In Colab\"/></a>"
      ]
    },
    {
      "cell_type": "markdown",
      "metadata": {
        "id": "LLB50xWtS7x8"
      },
      "source": [
        "#Busqueda lineal.\n",
        "Dado un cojunto de datos o ordenados, la busqueda lineal consiste en recorrer el conjunto de datos desde el inicio al final, moviendose de uno en uno hasta encontrar el elemento o llegar al final del conjunto.\n",
        "datos=[4,18,47,2,34,14,78,12,48,21,31,19,1,3,5]\n",
        "\n",
        "#Busqueda Binaria\n",
        "Fuciona sobre un conjunto de datos lineal ordenado\n",
        "consiste en dividir el conjunto en mitades y buscar en cada lado, si el elemento buscado no esta en la mitad, preguntas si el elemento esta a la derecha o a la izquierda.\n",
        "Haces la lista igual a la mitad correspondiente y repites el proceso.\n",
        "\n",
        "L=[1, 2, 3, 4, 5, 12, 14, 18, 19, 21, 31, 34, 47, 48, 78]\n",
        "DER= longitud(L)-1\n",
        "\n",
        "IZQ=0\n",
        "\n",
        "MID apuntara a la mitas del segmento de busqueda\n",
        "\n",
        "buscado es el valor a buscar\n",
        "1. Hacer DER=Longitud(L)-1\n",
        "2. Hacer IZQ=0\n",
        "3. Si IZQ > DER significa que hay un error en los datos\n",
        "4. Calcular MID=int((IZQ+DER)/2)\n",
        "5. mientras L[MID]!=buscado hacer\n",
        "6.   -  preguntar si L[MID] > buscado\n",
        "       -  hacer DER = MID\n",
        "     -  de lo contrario \n",
        "        - hacer IZQ=MID\n",
        "     -  preguntar(DER-IZQ)%2\n",
        "        - MID=(IZQ+(DER-IZQ)/2))+1\n",
        "     -  De lo contrario\n",
        "        - MID= IZQ+((DER-IZQ)/2)\n",
        "7. Regresar MID\n"
      ]
    },
    {
      "cell_type": "code",
      "metadata": {
        "id": "9QAgoapUS6BF",
        "outputId": "0c7a47f1-9b90-4262-a752-f2b14a8d8ea7",
        "colab": {
          "base_uri": "https://localhost:8080/",
          "height": 504
        }
      },
      "source": [
        "\"\"\"\n",
        "Busqueda lineal.\n",
        "regresa la posicion del elemento 'buscado' si se encuentra en la lista\n",
        "regresa -1 si el elemento no existe dentro de la lista\n",
        "\"\"\"\n",
        "def busq_lineal(L,buscado):\n",
        "  indice=-1\n",
        "  contador=0\n",
        "  for idx in range(len(L)):\n",
        "    contador+=1\n",
        "    if L[idx]==buscado:\n",
        "      indice=idx\n",
        "      break\n",
        "  print(f\"numero de comparaciones realizadas= {contador}\")\n",
        "  return indice\n",
        "\"\"\"\n",
        "busqueda binaria\n",
        "\"\"\"\n",
        "def busq_binaria(L, buscado):\n",
        "  IZQ=0\n",
        "  DER=len(L)-1\n",
        "  MID= int((IZQ+DER)/2)\n",
        "  if len(L)%2==0:\n",
        "    MID=(DER//2)+1\n",
        "  else:\n",
        "    MID=DER//2\n",
        "  while (L[MID]!=buscado):\n",
        "    if L[MID]>buscado:\n",
        "      DER=MID\n",
        "    else:\n",
        "      IZQ=MID\n",
        "    if (DER-IZQ)%2==0:\n",
        "      MID=(IZQ+((DER-IZQ)//2))+1\n",
        "    else:\n",
        "      MID= IZQ+((DER-IZQ)//2)\n",
        "  return MID\n",
        "\n",
        "def main():\n",
        "  datos=[4,18,47,2,34,14,78,12,48,21,31,19,1,3,5]\n",
        "  dato=int(input(\"¿Que valor quieres buscar?\"))\n",
        "  resultado= busq_lineal(datos,dato)\n",
        "  print(\"Resultado: \", resultado)\n",
        "  print(\"Busqueda lineal en una lista ordenada\")\n",
        "  datos.sort()\n",
        "  print(datos)\n",
        "  resultado= busq_lineal(datos,dato)\n",
        "  print(\"Resultado: \", resultado)\n",
        "\n",
        "  print(\"Busqueda binaria\")\n",
        "  posicion=busq_binaria(datos,dato)\n",
        "  print(f\"El elemento {dato} esta en la posicion{posicion} de la lista\")\n",
        "\n",
        "\n",
        "main()\n"
      ],
      "execution_count": 16,
      "outputs": [
        {
          "output_type": "stream",
          "text": [
            "¿Que valor quieres buscar?47\n",
            "numero de comparaciones realizadas= 3\n",
            "Resultado:  2\n",
            "Busqueda lineal en una lista ordenada\n",
            "[1, 2, 3, 4, 5, 12, 14, 18, 19, 21, 31, 34, 47, 48, 78]\n",
            "numero de comparaciones realizadas= 13\n",
            "Resultado:  12\n",
            "Busqueda binaria\n"
          ],
          "name": "stdout"
        },
        {
          "output_type": "error",
          "ename": "KeyboardInterrupt",
          "evalue": "ignored",
          "traceback": [
            "\u001b[0;31m---------------------------------------------------------------------------\u001b[0m",
            "\u001b[0;31mKeyboardInterrupt\u001b[0m                         Traceback (most recent call last)",
            "\u001b[0;32m<ipython-input-16-ef71bbf4be49>\u001b[0m in \u001b[0;36m<module>\u001b[0;34m()\u001b[0m\n\u001b[1;32m     52\u001b[0m \u001b[0;34m\u001b[0m\u001b[0m\n\u001b[1;32m     53\u001b[0m \u001b[0;34m\u001b[0m\u001b[0m\n\u001b[0;32m---> 54\u001b[0;31m \u001b[0mmain\u001b[0m\u001b[0;34m(\u001b[0m\u001b[0;34m)\u001b[0m\u001b[0;34m\u001b[0m\u001b[0;34m\u001b[0m\u001b[0m\n\u001b[0m",
            "\u001b[0;32m<ipython-input-16-ef71bbf4be49>\u001b[0m in \u001b[0;36mmain\u001b[0;34m()\u001b[0m\n\u001b[1;32m     48\u001b[0m \u001b[0;34m\u001b[0m\u001b[0m\n\u001b[1;32m     49\u001b[0m   \u001b[0mprint\u001b[0m\u001b[0;34m(\u001b[0m\u001b[0;34m\"Busqueda binaria\"\u001b[0m\u001b[0;34m)\u001b[0m\u001b[0;34m\u001b[0m\u001b[0;34m\u001b[0m\u001b[0m\n\u001b[0;32m---> 50\u001b[0;31m   \u001b[0mposicion\u001b[0m\u001b[0;34m=\u001b[0m\u001b[0mbusq_binaria\u001b[0m\u001b[0;34m(\u001b[0m\u001b[0mdatos\u001b[0m\u001b[0;34m,\u001b[0m\u001b[0mdato\u001b[0m\u001b[0;34m)\u001b[0m\u001b[0;34m\u001b[0m\u001b[0;34m\u001b[0m\u001b[0m\n\u001b[0m\u001b[1;32m     51\u001b[0m   \u001b[0mprint\u001b[0m\u001b[0;34m(\u001b[0m\u001b[0;34mf\"El elemento {dato} esta en la posicion{posicion} de la lista\"\u001b[0m\u001b[0;34m)\u001b[0m\u001b[0;34m\u001b[0m\u001b[0;34m\u001b[0m\u001b[0m\n\u001b[1;32m     52\u001b[0m \u001b[0;34m\u001b[0m\u001b[0m\n",
            "\u001b[0;32m<ipython-input-16-ef71bbf4be49>\u001b[0m in \u001b[0;36mbusq_binaria\u001b[0;34m(L, buscado)\u001b[0m\n\u001b[1;32m     33\u001b[0m       \u001b[0mMID\u001b[0m\u001b[0;34m=\u001b[0m\u001b[0;34m(\u001b[0m\u001b[0mIZQ\u001b[0m\u001b[0;34m+\u001b[0m\u001b[0;34m(\u001b[0m\u001b[0;34m(\u001b[0m\u001b[0mDER\u001b[0m\u001b[0;34m-\u001b[0m\u001b[0mIZQ\u001b[0m\u001b[0;34m)\u001b[0m\u001b[0;34m//\u001b[0m\u001b[0;36m2\u001b[0m\u001b[0;34m)\u001b[0m\u001b[0;34m)\u001b[0m\u001b[0;34m+\u001b[0m\u001b[0;36m1\u001b[0m\u001b[0;34m\u001b[0m\u001b[0;34m\u001b[0m\u001b[0m\n\u001b[1;32m     34\u001b[0m     \u001b[0;32melse\u001b[0m\u001b[0;34m:\u001b[0m\u001b[0;34m\u001b[0m\u001b[0;34m\u001b[0m\u001b[0m\n\u001b[0;32m---> 35\u001b[0;31m       \u001b[0mMID\u001b[0m\u001b[0;34m=\u001b[0m \u001b[0mIZQ\u001b[0m\u001b[0;34m+\u001b[0m\u001b[0;34m(\u001b[0m\u001b[0;34m(\u001b[0m\u001b[0mDER\u001b[0m\u001b[0;34m-\u001b[0m\u001b[0mIZQ\u001b[0m\u001b[0;34m)\u001b[0m\u001b[0;34m//\u001b[0m\u001b[0;36m2\u001b[0m\u001b[0;34m)\u001b[0m\u001b[0;34m-\u001b[0m\u001b[0;36m1\u001b[0m\u001b[0;34m\u001b[0m\u001b[0;34m\u001b[0m\u001b[0m\n\u001b[0m\u001b[1;32m     36\u001b[0m   \u001b[0;32mreturn\u001b[0m \u001b[0mMID\u001b[0m\u001b[0;34m\u001b[0m\u001b[0;34m\u001b[0m\u001b[0m\n\u001b[1;32m     37\u001b[0m \u001b[0;34m\u001b[0m\u001b[0m\n",
            "\u001b[0;31mKeyboardInterrupt\u001b[0m: "
          ]
        }
      ]
    }
  ]
}