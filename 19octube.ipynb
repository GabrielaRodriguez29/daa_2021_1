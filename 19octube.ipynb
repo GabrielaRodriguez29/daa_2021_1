{
  "nbformat": 4,
  "nbformat_minor": 0,
  "metadata": {
    "colab": {
      "name": "19octube.ipynb",
      "provenance": [],
      "authorship_tag": "ABX9TyP5gssuS2GOZSXniGi+4Dhi",
      "include_colab_link": true
    },
    "kernelspec": {
      "name": "python3",
      "display_name": "Python 3"
    }
  },
  "cells": [
    {
      "cell_type": "markdown",
      "metadata": {
        "id": "view-in-github",
        "colab_type": "text"
      },
      "source": [
        "<a href=\"https://colab.research.google.com/github/GabrielaRodriguez29/daa_2021_1/blob/master/19octube.ipynb\" target=\"_parent\"><img src=\"https://colab.research.google.com/assets/colab-badge.svg\" alt=\"Open In Colab\"/></a>"
      ]
    },
    {
      "cell_type": "code",
      "metadata": {
        "id": "9kzY1CllOmUI",
        "outputId": "6eb939f1-90a2-4d1d-e942-020e530d730f",
        "colab": {
          "base_uri": "https://localhost:8080/",
          "height": 290
        }
      },
      "source": [
        "a2d=[[3,2,1],[6,4,8],[7,4,2]]\n",
        "n=3\n",
        "print(a2d)\n",
        "total=0\n",
        "print(\"nivel 1\")\n",
        "for ren in range(n):\n",
        "  sumaRenglon=0\n",
        "  print(\"nivel 2\")\n",
        "  for col in range(n):\n",
        "    sumaRenglon+= a2d[ren][col]\n",
        "    total+=a2d[ren][col]\n",
        "    print(\"Nivel 3\")\n",
        "print(total)"
      ],
      "execution_count": 3,
      "outputs": [
        {
          "output_type": "stream",
          "text": [
            "[[3, 2, 1], [6, 4, 8], [7, 4, 2]]\n",
            "nivel 1\n",
            "nivel 2\n",
            "Nivel 3\n",
            "Nivel 3\n",
            "Nivel 3\n",
            "nivel 2\n",
            "Nivel 3\n",
            "Nivel 3\n",
            "Nivel 3\n",
            "nivel 2\n",
            "Nivel 3\n",
            "Nivel 3\n",
            "Nivel 3\n",
            "37\n"
          ],
          "name": "stdout"
        }
      ]
    }
  ]
}