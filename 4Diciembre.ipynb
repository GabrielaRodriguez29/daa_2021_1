{
  "nbformat": 4,
  "nbformat_minor": 0,
  "metadata": {
    "colab": {
      "name": "4Diciembre.ipynb",
      "provenance": [],
      "authorship_tag": "ABX9TyN44ChnStucPXdu7vutab4M",
      "include_colab_link": true
    },
    "kernelspec": {
      "name": "python3",
      "display_name": "Python 3"
    }
  },
  "cells": [
    {
      "cell_type": "markdown",
      "metadata": {
        "id": "view-in-github",
        "colab_type": "text"
      },
      "source": [
        "<a href=\"https://colab.research.google.com/github/GabrielaRodriguez29/daa_2021_1/blob/master/4Diciembre.ipynb\" target=\"_parent\"><img src=\"https://colab.research.google.com/assets/colab-badge.svg\" alt=\"Open In Colab\"/></a>"
      ]
    },
    {
      "cell_type": "code",
      "metadata": {
        "colab": {
          "base_uri": "https://localhost:8080/"
        },
        "id": "_Bk2goZd6ItD",
        "outputId": "a2d720ff-0a8e-44e1-d39e-cf02e17c3a49"
      },
      "source": [
        "def suma(lista):\n",
        "   if len(lista) == 1:\n",
        "        return lista[0]\n",
        "   else:\n",
        "        return lista[0] + suma(lista[1:])\n",
        "\n",
        "print(suma([2,5,9,2,7,6]))\n"
      ],
      "execution_count": 46,
      "outputs": [
        {
          "output_type": "stream",
          "text": [
            "31\n"
          ],
          "name": "stdout"
        }
      ]
    },
    {
      "cell_type": "code",
      "metadata": {
        "colab": {
          "base_uri": "https://localhost:8080/"
        },
        "id": "uvyDx7iy7fO3",
        "outputId": "eb326591-fafe-48b6-ab47-0311e0b41025"
      },
      "source": [
        "def contador(num):\n",
        "  if num==0:\n",
        "    print(\"0\")\n",
        "  else:\n",
        "    print(num)\n",
        "    num=num-1\n",
        "    return contador(num)\n",
        "\n",
        "print(contador(3))"
      ],
      "execution_count": 57,
      "outputs": [
        {
          "output_type": "stream",
          "text": [
            "3\n",
            "2\n",
            "1\n",
            "0\n",
            "None\n"
          ],
          "name": "stdout"
        }
      ]
    },
    {
      "cell_type": "code",
      "metadata": {
        "colab": {
          "base_uri": "https://localhost:8080/"
        },
        "id": "0dYc3VTHWNIz",
        "outputId": "09e3001a-bb8b-4531-f514-1b560cba75b6"
      },
      "source": [
        "lista=[1,2,3,4,5,6]\n",
        "def mitad(lista_1):\n",
        "  cont=0\n",
        "  if(cont==0):\n",
        "    print(lista)\n",
        "    cont+=1\n",
        "  medio=len(lista_1)//2\n",
        "  print(\"Eliminando \"+str(lista_1[medio]))\n",
        "  lista_1.pop(medio)\n",
        "  medio=0\n",
        "  print(lista_1)\n",
        "  if (len(lista_1)>=3):\n",
        "    mitad(lista_1)\n",
        "\n",
        "mitad(lista)\n"
      ],
      "execution_count": 67,
      "outputs": [
        {
          "output_type": "stream",
          "text": [
            "[1, 2, 3, 4, 5, 6]\n",
            "Eliminando 4\n",
            "[1, 2, 3, 5, 6]\n",
            "[1, 2, 3, 5, 6]\n",
            "Eliminando 3\n",
            "[1, 2, 5, 6]\n",
            "[1, 2, 5, 6]\n",
            "Eliminando 5\n",
            "[1, 2, 6]\n",
            "[1, 2, 6]\n",
            "Eliminando 2\n",
            "[1, 6]\n"
          ],
          "name": "stdout"
        }
      ]
    }
  ]
}