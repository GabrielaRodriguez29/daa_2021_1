{
  "nbformat": 4,
  "nbformat_minor": 0,
  "metadata": {
    "colab": {
      "name": "12enero.ipynb",
      "provenance": [],
      "authorship_tag": "ABX9TyPYDajS87i+2KtyfIbw/jsP",
      "include_colab_link": true
    },
    "kernelspec": {
      "name": "python3",
      "display_name": "Python 3"
    }
  },
  "cells": [
    {
      "cell_type": "markdown",
      "metadata": {
        "id": "view-in-github",
        "colab_type": "text"
      },
      "source": [
        "<a href=\"https://colab.research.google.com/github/GabrielaRodriguez29/daa_2021_1/blob/master/12enero.ipynb\" target=\"_parent\"><img src=\"https://colab.research.google.com/assets/colab-badge.svg\" alt=\"Open In Colab\"/></a>"
      ]
    },
    {
      "cell_type": "code",
      "metadata": {
        "id": "rsOffeBJBDjK"
      },
      "source": [
        "class NodoArbol:\r\n",
        " def __init__(self, value, left=None, right=None):\r\n",
        "  self.data=value\r\n",
        "  self.left=left\r\n",
        "  self.right=right\r\n",
        " "
      ],
      "execution_count": 6,
      "outputs": []
    },
    {
      "cell_type": "code",
      "metadata": {
        "colab": {
          "base_uri": "https://localhost:8080/"
        },
        "id": "7oHtnbAAGhy4",
        "outputId": "6b18edbd-a572-4157-8b25-f8af7ef893eb"
      },
      "source": [
        "def Buscar(arbol, nivel, nivelmax, res): \r\n",
        "    if (arbol != None): \r\n",
        "        nivel += 1\r\n",
        "        find(arbol.left, nivel, nivelmax, res)  \r\n",
        "        if (nivel > nivelmax[0]): \r\n",
        "            res[0] = arbol.data  \r\n",
        "            nivelmax[0] = nivel  \r\n",
        "        Buscar(arbol.right, nivel, nivelmax, res)\r\n",
        "     \r\n",
        "    \r\n",
        "   \r\n",
        "def Nodo_mas_profundo(arbol):   \r\n",
        "    res = [-1]  \r\n",
        "    nivelmax = [-1]    \r\n",
        "    Buscar(arbol, 0, nivelmax, res)\r\n",
        "    print(\"El nivel es:\",nivelmax)\r\n",
        "    return res[0] \r\n",
        "    \r\n",
        "   \r\n",
        "                          \r\n",
        "if __name__ == '__main__': \r\n",
        "    arbol = NodoArbol(\"Santi\",None,NodoArbol(\"Jesus\",NodoArbol(\"Pedro\",NodoArbol(\"Gaby\",NodoArbol(\"Netza\",NodoArbol(\"Luis\",NodoArbol(\"Cris\",None,NodoArbol(\"Jostyn\")),NodoArbol(\"Diego\")),NodoArbol(\"Dylan\"))),NodoArbol(\"Diana\")),None)) \r\n",
        "    print(\"El nodo mas profundo es:\",Nodo_mas_profundo(arbol)) "
      ],
      "execution_count": 39,
      "outputs": [
        {
          "output_type": "stream",
          "text": [
            "El nivel es: [8]\n",
            "El nodo mas profundo es: Jostyn\n"
          ],
          "name": "stdout"
        }
      ]
    }
  ]
}