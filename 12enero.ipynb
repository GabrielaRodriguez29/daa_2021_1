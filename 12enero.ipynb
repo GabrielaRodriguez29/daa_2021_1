{
  "nbformat": 4,
  "nbformat_minor": 0,
  "metadata": {
    "colab": {
      "name": "12enero.ipynb",
      "provenance": [],
      "authorship_tag": "ABX9TyPMmvt1NEkJhmvO7StxifvN",
      "include_colab_link": true
    },
    "kernelspec": {
      "name": "python3",
      "display_name": "Python 3"
    }
  },
  "cells": [
    {
      "cell_type": "markdown",
      "metadata": {
        "id": "view-in-github",
        "colab_type": "text"
      },
      "source": [
        "<a href=\"https://colab.research.google.com/github/GabrielaRodriguez29/daa_2021_1/blob/master/12enero.ipynb\" target=\"_parent\"><img src=\"https://colab.research.google.com/assets/colab-badge.svg\" alt=\"Open In Colab\"/></a>"
      ]
    },
    {
      "cell_type": "code",
      "metadata": {
        "id": "rsOffeBJBDjK"
      },
      "source": [
        "class NodoArbol:\r\n",
        " def __init__(self, value, left=None, right=None):\r\n",
        "  self.data=value\r\n",
        "  self.left=left\r\n",
        "  self.right=right\r\n",
        " "
      ],
      "execution_count": null,
      "outputs": []
    },
    {
      "cell_type": "code",
      "metadata": {
        "id": "7oHtnbAAGhy4"
      },
      "source": [
        "def Buscar(arbol, nivel, nivelmax, res): \r\n",
        "    if (arbol != None): \r\n",
        "        nivel += 1\r\n",
        "        find(arbol.left, nivel, nivelmax, res)  \r\n",
        "        if (nivel > nivelmax[0]): \r\n",
        "            res[0] = arbol.data  \r\n",
        "            nivelmax[0] = nivel  \r\n",
        "        Buscar(arbol.right, nivel, nivelmax, res)\r\n",
        "     \r\n",
        "    \r\n",
        "   \r\n",
        "def profundo(arbol):   \r\n",
        "    res = [-1]  \r\n",
        "    nivelmax = [-1]    \r\n",
        "    Buscar(arbol, 0, nivelmax, res)\r\n",
        "    print(\"El nivel es:\",nivelmax)\r\n",
        "    return res[0] \r\n",
        "    \r\n",
        "   \r\n",
        "                          \r\n"
      ],
      "execution_count": 75,
      "outputs": []
    },
    {
      "cell_type": "code",
      "metadata": {
        "colab": {
          "base_uri": "https://localhost:8080/"
        },
        "id": "mYYVpbb1RlD5",
        "outputId": "95294de7-c62a-4347-b97a-eec859d8a80e"
      },
      "source": [
        "if __name__ == '__main__': \r\n",
        "    arbol = NodoArbol(\"Santi\",None,NodoArbol(\"Jesus\",NodoArbol(\"Pedro\",NodoArbol(\"Gaby\",NodoArbol(\"Netza\",NodoArbol(\"Luis\",NodoArbol(\"Cris\",None,NodoArbol(\"Jostyn\")),NodoArbol(\"Diego\")),NodoArbol(\"Dylan\"))),NodoArbol(\"Diana\")),None)) \r\n",
        "    print(\"El nodo mas profundo es:\",profundo(arbol)) "
      ],
      "execution_count": 76,
      "outputs": [
        {
          "output_type": "stream",
          "text": [
            "El nivel es: [8]\n",
            "El nodo mas profundo es: Jostyn\n"
          ],
          "name": "stdout"
        }
      ]
    },
    {
      "cell_type": "code",
      "metadata": {
        "colab": {
          "base_uri": "https://localhost:8080/"
        },
        "id": "jr4TO-4TRfOe",
        "outputId": "34c9335a-5654-4105-8da0-129fc6330979"
      },
      "source": [
        "if __name__ == '__main__': \r\n",
        "  arbol = NodoArbol(\"Ymir\",NodoArbol(\"Mikasa\",NodoArbol(\"Armin\",NodoArbol(\"Zeke\",NodoArbol(\"Magath\"),NodoArbol(\"Reiner\",NodoArbol(\"Hange\",None,NodoArbol(\"Pocco\",NodoArbol(\"Pieck\",NodoArbol(\"Levi\")),None))))),),NodoArbol(\"Eren\",NodoArbol(\"Jean\",NodoArbol(\"Gaby\",NodoArbol(\"Connie\",NodoArbol(\"Falco\",NodoArbol(\"Sasha\",None,NodoArbol(\"Annie\")),NodoArbol(\"Yelena\")),NodoArbol(\"Tybur\"))),NodoArbol(\"Laina\")),None)) \r\n",
        "  print(\"El nodo mas profundo es:\",profundo(arbol)) "
      ],
      "execution_count": 89,
      "outputs": [
        {
          "output_type": "stream",
          "text": [
            "El nivel es: [9]\n",
            "El nodo mas profundo es: Levi\n"
          ],
          "name": "stdout"
        }
      ]
    },
    {
      "cell_type": "code",
      "metadata": {
        "colab": {
          "base_uri": "https://localhost:8080/"
        },
        "id": "W3fVBzA-N9bw",
        "outputId": "040235af-9fbe-42b4-9ec8-2c9de283de00"
      },
      "source": [
        "if __name__ == '__main__': \r\n",
        "    arbol = NodoArbol(\"Sherlock\",NodoArbol(\"John\",NodoArbol(\"Rossie\",NodoArbol(\"Johnlock\"))),NodoArbol(\"The Woman\",NodoArbol(\"Molly\"))) \r\n",
        "    print(\"El nodo mas profundo es:\",profundo(arbol)) "
      ],
      "execution_count": 99,
      "outputs": [
        {
          "output_type": "stream",
          "text": [
            "El nivel es: [4]\n",
            "El nodo mas profundo es: Johnlock\n"
          ],
          "name": "stdout"
        }
      ]
    },
    {
      "cell_type": "code",
      "metadata": {
        "colab": {
          "base_uri": "https://localhost:8080/"
        },
        "id": "xjL_shnZUvEu",
        "outputId": "f5b09df1-2739-4d3e-ddde-9fb380186dc9"
      },
      "source": [
        "if __name__ == '__main__': \r\n",
        "    arbol = NodoArbol(\"Dain\",NodoArbol(\"Thror\",NodoArbol(\"Thrain\",NodoArbol(\"Thorin\"),NodoArbol(\"Dis\",NodoArbol(\"Fili\"),NodoArbol(\"Kili\")))),NodoArbol(\"Gror\",NodoArbol(\"Nain\",NodoArbol(\"Dain II\",NodoArbol(\"Thorin II\"))))) \r\n",
        "    print(\"El nodo mas profundo es:\",profundo(arbol)) "
      ],
      "execution_count": 100,
      "outputs": [
        {
          "output_type": "stream",
          "text": [
            "El nivel es: [5]\n",
            "El nodo mas profundo es: Fili\n"
          ],
          "name": "stdout"
        }
      ]
    }
  ]
}