{
  "nbformat": 4,
  "nbformat_minor": 0,
  "metadata": {
    "colab": {
      "name": "13enero.ipynb",
      "provenance": [],
      "authorship_tag": "ABX9TyNqUPhXY4K3z9Y9RVY53F97",
      "include_colab_link": true
    },
    "kernelspec": {
      "name": "python3",
      "display_name": "Python 3"
    }
  },
  "cells": [
    {
      "cell_type": "markdown",
      "metadata": {
        "id": "view-in-github",
        "colab_type": "text"
      },
      "source": [
        "<a href=\"https://colab.research.google.com/github/GabrielaRodriguez29/daa_2021_1/blob/master/13enero.ipynb\" target=\"_parent\"><img src=\"https://colab.research.google.com/assets/colab-badge.svg\" alt=\"Open In Colab\"/></a>"
      ]
    },
    {
      "cell_type": "code",
      "metadata": {
        "id": "ilmGo5k7NLUq"
      },
      "source": [
        "class NodoArbol:\r\n",
        " def __init__(self, value, left=None, right=None):\r\n",
        "  self.data=value\r\n",
        "  self.left=left\r\n",
        "  self.right=right"
      ],
      "execution_count": 2,
      "outputs": []
    },
    {
      "cell_type": "markdown",
      "metadata": {
        "id": "uWdCiuAtNOa8"
      },
      "source": [
        "<H1> Arbol Binrio de Busqueda\r\n",
        "\r\n",
        "\r\n",
        "Los nodos a la izq son menores a la raiz y los nodos a la derecha mayores a la raiz.\r\n",
        "Pueden ser recorridos en: \r\n",
        "\r\n",
        "\r\n",
        "* Pre-orden\r\n",
        "* in-orden\r\n",
        "* Post-orden\r\n",
        "\r\n",
        "\r\n",
        "\r\n",
        "\r\n",
        "\r\n"
      ]
    },
    {
      "cell_type": "code",
      "metadata": {
        "id": "hQRU7se_TPuN"
      },
      "source": [
        "class BinarySearchTree:\r\n",
        "\r\n",
        "  def __init__(self):\r\n",
        "    self.__root=None\r\n",
        "\r\n",
        "  def insert(self, value):\r\n",
        "    if self.__root==None:\r\n",
        "       self.__root= NodoArbol(value,None,None)\r\n",
        "    else:\r\n",
        "      #preguntar si value es menor que root, de ser el caso\r\n",
        "      #insertar a la izq, pero puede ser el caso de que el \r\n",
        "      #sub arbol izq ya tenga muchos elementos\r\n",
        "      self.__insert_nodo__(self.__root,value)\r\n",
        "  def __insert_nodo__(self,nodo,value):\r\n",
        "    if nodo.data==value:\r\n",
        "      pass\r\n",
        "    elif value<nodo.data: #true va a la izq\r\n",
        "      if nodo.left==None: #si hay espacio en la izq, ahi va\r\n",
        "        nodo.left=NodoArbol(value,None,None)#insertamos el nodo\r\n",
        "      else: \r\n",
        "        self.__insert_nodo__(nodo.left,value)#buscar el sub arbol izq\r\n",
        "    else:\r\n",
        "      if nodo.right==None:\r\n",
        "        nodo.right=NodoArbol(value,None,None)\r\n",
        "      else:\r\n",
        "        self.__insert_nodo__(nodo.right,value)##buscar en sub arbol der\r\n",
        "\r\n",
        "\r\n"
      ],
      "execution_count": 3,
      "outputs": []
    },
    {
      "cell_type": "code",
      "metadata": {
        "id": "gNiGCSkybvNJ"
      },
      "source": [
        "bst=BinarySearchTree()\r\n",
        "bst.insert(50)\r\n",
        "bst.insert(30)\r\n",
        "bst.insert(20)\r\n",
        "bst.search(30)#true o false?"
      ],
      "execution_count": 7,
      "outputs": []
    }
  ]
}