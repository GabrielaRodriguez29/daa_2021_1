{
  "nbformat": 4,
  "nbformat_minor": 0,
  "metadata": {
    "colab": {
      "name": "13enero.ipynb",
      "provenance": [],
      "authorship_tag": "ABX9TyNXxC2jecgvCLbGoneIcOLw",
      "include_colab_link": true
    },
    "kernelspec": {
      "name": "python3",
      "display_name": "Python 3"
    }
  },
  "cells": [
    {
      "cell_type": "markdown",
      "metadata": {
        "id": "view-in-github",
        "colab_type": "text"
      },
      "source": [
        "<a href=\"https://colab.research.google.com/github/GabrielaRodriguez29/daa_2021_1/blob/master/13enero.ipynb\" target=\"_parent\"><img src=\"https://colab.research.google.com/assets/colab-badge.svg\" alt=\"Open In Colab\"/></a>"
      ]
    },
    {
      "cell_type": "code",
      "metadata": {
        "id": "ilmGo5k7NLUq"
      },
      "source": [
        "class NodoArbol:\r\n",
        " def __init__(self, value, left=None, right=None):\r\n",
        "  self.data=value\r\n",
        "  self.left=left\r\n",
        "  self.right=right"
      ],
      "execution_count": 10,
      "outputs": []
    },
    {
      "cell_type": "markdown",
      "metadata": {
        "id": "uWdCiuAtNOa8"
      },
      "source": [
        "<H1> Arbol Binrio de Busqueda\r\n",
        "\r\n",
        "\r\n",
        "Los nodos a la izq son menores a la raiz y los nodos a la derecha mayores a la raiz.\r\n",
        "Pueden ser recorridos en: \r\n",
        "\r\n",
        "\r\n",
        "* Pre-orden\r\n",
        "* in-orden\r\n",
        "* Post-orden\r\n",
        "\r\n",
        "\r\n",
        "\r\n",
        "\r\n",
        "\r\n"
      ]
    },
    {
      "cell_type": "code",
      "metadata": {
        "id": "hQRU7se_TPuN"
      },
      "source": [
        "class BinarySearchTree:\r\n",
        "\r\n",
        "  def __init__(self):\r\n",
        "    self.__root=None\r\n",
        "\r\n",
        "  def insert(self, value):\r\n",
        "    if self.__root==None:\r\n",
        "       self.__root= NodoArbol(value,None,None)\r\n",
        "    else:\r\n",
        "      #preguntar si value es menor que root, de ser el caso\r\n",
        "      #insertar a la izq, pero puede ser el caso de que el \r\n",
        "      #sub arbol izq ya tenga muchos elementos\r\n",
        "      self.__insert_nodo__(self.__root,value)\r\n",
        "  def __insert_nodo__(self,nodo,value):\r\n",
        "    if nodo.data==value:\r\n",
        "      pass\r\n",
        "    elif value<nodo.data: #true va a la izq\r\n",
        "      if nodo.left==None: #si hay espacio en la izq, ahi va\r\n",
        "        nodo.left=NodoArbol(value,None,None)#insertamos el nodo\r\n",
        "      else: \r\n",
        "        self.__insert_nodo__(nodo.left,value)#buscar el sub arbol izq\r\n",
        "    else:\r\n",
        "      if nodo.right==None:\r\n",
        "        nodo.right=NodoArbol(value,None,None)\r\n",
        "      else:\r\n",
        "        self.__insert_nodo__(nodo.right,value)##buscar en sub arbol der\r\n",
        "  def buscar(self, value):\r\n",
        "     if self.__root==None:\r\n",
        "       return None\r\n",
        "     else:\r\n",
        "       #haremos busqueda recursiva\r\n",
        "       return self.__busca_nodo(self.__root,value)\r\n",
        "\r\n",
        "  def __busca_nodo(self,nodo,value):\r\n",
        "     if nodo ==None:\r\n",
        "       return None\r\n",
        "     elif nodo.data==value:\r\n",
        "       return nodo.data\r\n",
        "     elif value< nodo.data:\r\n",
        "       return self.__busca_nodo(nodo.left,value)\r\n",
        "     else:\r\n",
        "       return self.__busca_nodo(nodo.right,value) \r\n",
        "       \r\n",
        "  def transversal(self,format=\"inorden\"):\r\n",
        "    if format==\"inorden\":\r\n",
        "      self.__recorrido_in(self.__root)\r\n",
        "    elif format==\"preorden\":\r\n",
        "      self.__recorrido_pre(self.__root)\r\n",
        "    elif format==\"posorden\":\r\n",
        "      self.__recorrido_pos(self.__root)\r\n",
        "    else:\r\n",
        "      print(\"Formato de recorrido no valido\")\r\n",
        "\r\n",
        "  def __recorrido_pre(self,nodo):\r\n",
        "    if nodo!= None:\r\n",
        "      print(nodo.data, end=\",\")\r\n",
        "      self.__recorrido_pre(nodo.left)\r\n",
        "      self.__recorrido_pre(nodo.right)\r\n",
        "\r\n",
        "  def __recorrido_in(self,nodo):\r\n",
        "    if nodo!=None:\r\n",
        "      self.__recorrido_in(nodo.left)\r\n",
        "      print(nodo.data, end=\",\")\r\n",
        "      self.__recorrido_in(nodo.right)\r\n",
        "\r\n",
        "\r\n",
        "  def __recorrido_pos(self,nodo):\r\n",
        "    if nodo!= None:\r\n",
        "      self.__recorrido_pos(nodo.left)\r\n",
        "      self.__recorrido_pos(nodo.right)\r\n",
        "      print(nodo.data, end=\",\")\r\n",
        "     "
      ],
      "execution_count": 38,
      "outputs": []
    },
    {
      "cell_type": "code",
      "metadata": {
        "id": "gNiGCSkybvNJ",
        "colab": {
          "base_uri": "https://localhost:8080/"
        },
        "outputId": "a4e476ba-b007-4506-a794-3e35d07dc5c1"
      },
      "source": [
        "bst=BinarySearchTree()\r\n",
        "bst.insert(50)\r\n",
        "bst.insert(30)\r\n",
        "bst.insert(20)\r\n",
        "res=bst.buscar(30)#true o false?\r\n",
        "print(\"Dato:\"+ str(res))\r\n",
        "print(bst.buscar(40))\r\n",
        "print(\"recorrido preorden:\")\r\n",
        "bst.transversal(format=\"preorden\")\r\n",
        "print('\\n'\"recorrido inorden:\")\r\n",
        "bst.transversal()\r\n",
        "print('\\n'\"recorrido posorden:\")\r\n",
        "bst.transversal(format=\"posorden\")"
      ],
      "execution_count": 41,
      "outputs": [
        {
          "output_type": "stream",
          "text": [
            "Dato:30\n",
            "None\n",
            "recorrido preorden:\n",
            "50,30,20,\n",
            "recorrido inorden:\n",
            "20,30,50,\n",
            "recorrido posorden:\n",
            "20,30,50,"
          ],
          "name": "stdout"
        }
      ]
    }
  ]
}