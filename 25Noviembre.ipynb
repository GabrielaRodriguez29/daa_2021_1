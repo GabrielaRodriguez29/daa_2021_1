{
  "nbformat": 4,
  "nbformat_minor": 0,
  "metadata": {
    "colab": {
      "name": "25Noviembre.ipynb",
      "provenance": [],
      "authorship_tag": "ABX9TyMb4oUoV/HuBbqmOLZPKiIF",
      "include_colab_link": true
    },
    "kernelspec": {
      "name": "python3",
      "display_name": "Python 3"
    }
  },
  "cells": [
    {
      "cell_type": "markdown",
      "metadata": {
        "id": "view-in-github",
        "colab_type": "text"
      },
      "source": [
        "<a href=\"https://colab.research.google.com/github/GabrielaRodriguez29/daa_2021_1/blob/master/25Noviembre.ipynb\" target=\"_parent\"><img src=\"https://colab.research.google.com/assets/colab-badge.svg\" alt=\"Open In Colab\"/></a>"
      ]
    },
    {
      "cell_type": "code",
      "metadata": {
        "colab": {
          "base_uri": "https://localhost:8080/"
        },
        "id": "rFF6uhRI5B97",
        "outputId": "3e04bbf0-7bc3-4258-efa7-375e680946ea"
      },
      "source": [
        "Frase=\"\"\"El lema que anima a la Universidad Nacional, Por mi raza hablará el espíritu, revela la vocación humanística con la que fue concebida. El autor de esta célebre frase, José Vasconcelos, asumió la rectoría en 1920, en una época en que las esperanzas de la Revolución aún estaban vivas,\n",
        " había una gran fé en la Patria y el ánimo redentor se extendía en el ambiente.\"\"\"\n",
        "Frase=Frase.strip().replace(\"\\n\",\"\").replace(\",\",\"\").replace(\".\",\"\").lower().split(\" \")\n",
        "print(Frase)\n",
        "frec={}\n",
        "for index in range(len(Frase)):\n",
        "  if Frase[index] in frec: #'el' in frec\n",
        "    pass\n",
        "  else:\n",
        "    frec[Frase[index]]=1 #frec['el']=1-->{'el':1}\n",
        "    for pivote in range(index +1,len(Frase),1):\n",
        "        # print(Frase[index],\"Comparada contra: \",Frase[pivote])\n",
        "        if Frase[index]==Frase[pivote]:\n",
        "          frec[Frase[index]]+=1\n",
        "print(frec)\n"
      ],
      "execution_count": 11,
      "outputs": [
        {
          "output_type": "stream",
          "text": [
            "['el', 'lema', 'que', 'anima', 'a', 'la', 'universidad', 'nacional', 'por', 'mi', 'raza', 'hablará', 'el', 'espíritu', 'revela', 'la', 'vocación', 'humanística', 'con', 'la', 'que', 'fue', 'concebida', 'el', 'autor', 'de', 'esta', 'célebre', 'frase', 'josé', 'vasconcelos', 'asumió', 'la', 'rectoría', 'en', '1920', 'en', 'una', 'época', 'en', 'que', 'las', 'esperanzas', 'de', 'la', 'revolución', 'aún', 'estaban', 'vivas', 'había', 'una', 'gran', 'fé', 'en', 'la', 'patria', 'y', 'el', 'ánimo', 'redentor', 'se', 'extendía', 'en', 'el', 'ambiente']\n",
            "{'el': 5, 'lema': 1, 'que': 3, 'anima': 1, 'a': 1, 'la': 6, 'universidad': 1, 'nacional': 1, 'por': 1, 'mi': 1, 'raza': 1, 'hablará': 1, 'espíritu': 1, 'revela': 1, 'vocación': 1, 'humanística': 1, 'con': 1, 'fue': 1, 'concebida': 1, 'autor': 1, 'de': 2, 'esta': 1, 'célebre': 1, 'frase': 1, 'josé': 1, 'vasconcelos': 1, 'asumió': 1, 'rectoría': 1, 'en': 5, '1920': 1, 'una': 2, 'época': 1, 'las': 1, 'esperanzas': 1, 'revolución': 1, 'aún': 1, 'estaban': 1, 'vivas': 1, 'había': 1, 'gran': 1, 'fé': 1, 'patria': 1, 'y': 1, 'ánimo': 1, 'redentor': 1, 'se': 1, 'extendía': 1, 'ambiente': 1}\n"
          ],
          "name": "stdout"
        }
      ]
    },
    {
      "cell_type": "code",
      "metadata": {
        "colab": {
          "base_uri": "https://localhost:8080/"
        },
        "id": "WkAlqnnS_OcF",
        "outputId": "658e9294-3b00-4485-ce5e-b782b0036dda"
      },
      "source": [
        "frase=\"\"\"El lema que anima a la Universidad Nacional, Por mi raza hablará el espíritu, revela la vocación humanística con la que fue concebida. El autor de esta célebre frase, José Vasconcelos, asumió la rectoría en 1920, en una época en que las esperanzas de la Revolución aún estaban vivas,\n",
        " había una gran fé en la Patria y el ánimo redentor se extendía en el ambiente.\"\"\"\n",
        "frase=frase.strip().replace(\"\\n\",\"\").replace(\",\",\"\").replace(\".\",\"\").lower().split(\" \")\n",
        "print(frase)\n",
        "frec={}\n",
        "for index in range(len(frase)):\n",
        "   print(hash(frase[index]))\n",
        "   if frase[index] in frec:\n",
        "     frec[frase[index]]+=1\n",
        "   else:\n",
        "     frec[frase[index]]=1\n",
        "print(frec)\n",
        "  "
      ],
      "execution_count": 20,
      "outputs": [
        {
          "output_type": "stream",
          "text": [
            "['el', 'lema', 'que', 'anima', 'a', 'la', 'universidad', 'nacional', 'por', 'mi', 'raza', 'hablará', 'el', 'espíritu', 'revela', 'la', 'vocación', 'humanística', 'con', 'la', 'que', 'fue', 'concebida', 'el', 'autor', 'de', 'esta', 'célebre', 'frase', 'josé', 'vasconcelos', 'asumió', 'la', 'rectoría', 'en', '1920', 'en', 'una', 'época', 'en', 'que', 'las', 'esperanzas', 'de', 'la', 'revolución', 'aún', 'estaban', 'vivas', 'había', 'una', 'gran', 'fé', 'en', 'la', 'patria', 'y', 'el', 'ánimo', 'redentor', 'se', 'extendía', 'en', 'el', 'ambiente']\n",
            "-7084717731618293775\n",
            "1222317113817142955\n",
            "-1476682847084374631\n",
            "-9191749966664680534\n",
            "4182632111055421733\n",
            "-767713585106154008\n",
            "1981063800736012099\n",
            "5783131877634853339\n",
            "8919793496973552188\n",
            "-5684574219085805714\n",
            "2919037694564071511\n",
            "7923776146050970580\n",
            "-7084717731618293775\n",
            "8378453001309873084\n",
            "-3207444914821577244\n",
            "-767713585106154008\n",
            "-1769615128154936105\n",
            "-5262122881506691894\n",
            "5153416585976476436\n",
            "-767713585106154008\n",
            "-1476682847084374631\n",
            "5882699460529886363\n",
            "4082782250784915498\n",
            "-7084717731618293775\n",
            "5822727943940945429\n",
            "7576475933383909236\n",
            "4977319498507642698\n",
            "-6886671668731806377\n",
            "3239871409866462127\n",
            "2164424435763661458\n",
            "-2863718800145632225\n",
            "3491706766293329978\n",
            "-767713585106154008\n",
            "-2903067339752441060\n",
            "-8518707510049115414\n",
            "-4439385555315366082\n",
            "-8518707510049115414\n",
            "-3642413644095552635\n",
            "2627877815940075812\n",
            "-8518707510049115414\n",
            "-1476682847084374631\n",
            "7668765677151967780\n",
            "-7668627973549271510\n",
            "7576475933383909236\n",
            "-767713585106154008\n",
            "141771469929917704\n",
            "6637414220754839846\n",
            "3479718681311910281\n",
            "4970706768182482481\n",
            "-6441054497072892056\n",
            "-3642413644095552635\n",
            "-5873580427219488271\n",
            "4047201229204774319\n",
            "-8518707510049115414\n",
            "-767713585106154008\n",
            "-2343156638682614852\n",
            "2226905089981573491\n",
            "-7084717731618293775\n",
            "-2912123883068010246\n",
            "-6687438697458302321\n",
            "8804795729106869783\n",
            "-3309706572492883989\n",
            "-8518707510049115414\n",
            "-7084717731618293775\n",
            "3680822020577548157\n",
            "{'el': 5, 'lema': 1, 'que': 3, 'anima': 1, 'a': 1, 'la': 6, 'universidad': 1, 'nacional': 1, 'por': 1, 'mi': 1, 'raza': 1, 'hablará': 1, 'espíritu': 1, 'revela': 1, 'vocación': 1, 'humanística': 1, 'con': 1, 'fue': 1, 'concebida': 1, 'autor': 1, 'de': 2, 'esta': 1, 'célebre': 1, 'frase': 1, 'josé': 1, 'vasconcelos': 1, 'asumió': 1, 'rectoría': 1, 'en': 5, '1920': 1, 'una': 2, 'época': 1, 'las': 1, 'esperanzas': 1, 'revolución': 1, 'aún': 1, 'estaban': 1, 'vivas': 1, 'había': 1, 'gran': 1, 'fé': 1, 'patria': 1, 'y': 1, 'ánimo': 1, 'redentor': 1, 'se': 1, 'extendía': 1, 'ambiente': 1}\n"
          ],
          "name": "stdout"
        }
      ]
    }
  ]
}