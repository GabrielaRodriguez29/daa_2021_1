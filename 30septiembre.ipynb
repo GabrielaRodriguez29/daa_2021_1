{
  "nbformat": 4,
  "nbformat_minor": 0,
  "metadata": {
    "colab": {
      "name": "30septiembre.ipynb",
      "provenance": [],
      "authorship_tag": "ABX9TyMmMvd3XKeEXnGsTvI5SJ0z",
      "include_colab_link": true
    },
    "kernelspec": {
      "name": "python3",
      "display_name": "Python 3"
    }
  },
  "cells": [
    {
      "cell_type": "markdown",
      "metadata": {
        "id": "view-in-github",
        "colab_type": "text"
      },
      "source": [
        "<a href=\"https://colab.research.google.com/github/GabrielaRodriguez29/daa_2021_1/blob/master/30septiembre.ipynb\" target=\"_parent\"><img src=\"https://colab.research.google.com/assets/colab-badge.svg\" alt=\"Open In Colab\"/></a>"
      ]
    },
    {
      "cell_type": "markdown",
      "metadata": {
        "id": "56kl7eOcQLBL"
      },
      "source": [
        "#Palindromos\n",
        "Es una palabra que se lee de igual manera de un sentido y a la inversa\n",
        "1. Sugus\n",
        "2. oso\n",
        "3. reconocer\n",
        "4. 10101\n",
        "5. 10.01\n",
        "etc.\n",
        "\n",
        "##Plantemiento del problema\n",
        "Se desea encontrar todos los palindromos que existen en la franja horaria de un dia completo, tomando como horario inicial las 00:00hrs y como horario final las 23:59.\n",
        "el algoritmo debe mostrar en pantalla todos los palindromos existentes en ese rango, al final debe mostar el conteo del total existente."
      ]
    },
    {
      "cell_type": "code",
      "metadata": {
        "id": "uzkRv8ywfAiw",
        "outputId": "eb7563cf-b0bd-42be-cb1f-6d83778b1a8e",
        "colab": {
          "base_uri": "https://localhost:8080/",
          "height": 306
        }
      },
      "source": [
        "palindonum= int(0)\n",
        "for hor in range(0,24):\n",
        "  for min in range(0,60):\n",
        "    principio= str(hor)\n",
        "    final= str(min)\n",
        "    if (hor<10):\n",
        "      principio=(\"0\"+principio)\n",
        "    if (min<10):\n",
        "      final=(\"0\"+final)\n",
        "    if (principio[::-1]==final):\n",
        "      print(principio +\":\"+final)\n",
        "      palindronum= palindronum+1\n",
        "print(palindronum)\n"
      ],
      "execution_count": 21,
      "outputs": [
        {
          "output_type": "stream",
          "text": [
            "00:00\n",
            "01:10\n",
            "02:20\n",
            "03:30\n",
            "04:40\n",
            "05:50\n",
            "10:01\n",
            "11:11\n",
            "12:21\n",
            "13:31\n",
            "14:41\n",
            "15:51\n",
            "20:02\n",
            "21:12\n",
            "22:22\n",
            "23:32\n",
            "33\n"
          ],
          "name": "stdout"
        }
      ]
    }
  ]
}