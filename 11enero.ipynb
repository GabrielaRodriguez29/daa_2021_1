{
  "nbformat": 4,
  "nbformat_minor": 0,
  "metadata": {
    "colab": {
      "name": "11enero.ipynb",
      "provenance": [],
      "authorship_tag": "ABX9TyMCLT/RwluWgihd3qXRlv0v",
      "include_colab_link": true
    },
    "kernelspec": {
      "name": "python3",
      "display_name": "Python 3"
    }
  },
  "cells": [
    {
      "cell_type": "markdown",
      "metadata": {
        "id": "view-in-github",
        "colab_type": "text"
      },
      "source": [
        "<a href=\"https://colab.research.google.com/github/GabrielaRodriguez29/daa_2021_1/blob/master/11enero.ipynb\" target=\"_parent\"><img src=\"https://colab.research.google.com/assets/colab-badge.svg\" alt=\"Open In Colab\"/></a>"
      ]
    },
    {
      "cell_type": "code",
      "metadata": {
        "id": "OgMLFrlo6OEY"
      },
      "source": [
        "class NodoArbol:\r\n",
        " def __init__(self, value, left=None, right=None):\r\n",
        "  self.data=value\r\n",
        "  self.left=left\r\n",
        "  self.right=right"
      ],
      "execution_count": null,
      "outputs": []
    },
    {
      "cell_type": "code",
      "metadata": {
        "id": "fqZsc56p8snm"
      },
      "source": [
        "arbol=NodoArbol(\"R\",NodoArbol(\"C\"),NodoArbol(\"H\"))\r\n"
      ],
      "execution_count": null,
      "outputs": []
    },
    {
      "cell_type": "code",
      "metadata": {
        "id": "hARht6MP9u4z"
      },
      "source": [
        "nodo1=NodoArbol(\"C\")\r\n",
        "nodo2=NodoArbol(\"H\")\r\n",
        "arbol_v2=NodoArbol(\"R\",nodo1,nodo2)"
      ],
      "execution_count": null,
      "outputs": []
    },
    {
      "cell_type": "code",
      "metadata": {
        "colab": {
          "base_uri": "https://localhost:8080/"
        },
        "id": "D3pFoPBu-Vvo",
        "outputId": "3bb72c8d-371f-4f56-c698-d14a53163910"
      },
      "source": [
        "print(arbol.right.data)\r\n",
        "print(arbol_v2.right.data)\r\n",
        "print(arbol2.left.left.left.data)"
      ],
      "execution_count": null,
      "outputs": [
        {
          "output_type": "stream",
          "text": [
            "H\n",
            "H\n",
            "2\n"
          ],
          "name": "stdout"
        }
      ]
    },
    {
      "cell_type": "code",
      "metadata": {
        "id": "P_0sf2I6-2db"
      },
      "source": [
        "arbol2= NodoArbol(4,NodoArbol(3,NodoArbol(2,NodoArbol(2))),NodoArbol(5))\r\n"
      ],
      "execution_count": 36,
      "outputs": []
    },
    {
      "cell_type": "code",
      "metadata": {
        "colab": {
          "base_uri": "https://localhost:8080/"
        },
        "id": "gc71j55JEFNG",
        "outputId": "29ca5923-ea4b-40f1-ff7d-d7332f4a5886"
      },
      "source": [
        "aux=arbol2\r\n",
        "nivel=0\r\n",
        "while aux.left!=None:\r\n",
        "  aux=aux.left\r\n",
        "  nivel+=1\r\n",
        "print(aux.data)\r\n",
        "print(\"Nivel\",nivel)\r\n",
        "auxr=arbol2\r\n",
        "while auxr.right!=None:\r\n",
        "  auxr=auxr.right\r\n",
        "print(auxr.data)"
      ],
      "execution_count": 45,
      "outputs": [
        {
          "output_type": "stream",
          "text": [
            "2\n",
            "Nivel 3\n",
            "5\n"
          ],
          "name": "stdout"
        }
      ]
    },
    {
      "cell_type": "code",
      "metadata": {
        "colab": {
          "base_uri": "https://localhost:8080/"
        },
        "id": "aBhf2VyZEo3R",
        "outputId": "e634cf74-b86c-4bd2-b41a-73f2b206d67d"
      },
      "source": [
        "arbol3=NodoArbol(\"Santi\",None,NodoArbol(\"Jesus\",NodoArbol(\"Pedro\",None,NodoArbol(\"Diana\")),None))\r\n",
        "print(arbol3.right.left.right.data)"
      ],
      "execution_count": 41,
      "outputs": [
        {
          "output_type": "stream",
          "text": [
            "Diana\n"
          ],
          "name": "stdout"
        }
      ]
    }
  ]
}