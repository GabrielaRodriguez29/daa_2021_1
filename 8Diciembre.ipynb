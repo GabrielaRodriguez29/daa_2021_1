{
  "nbformat": 4,
  "nbformat_minor": 0,
  "metadata": {
    "colab": {
      "name": "8Diciembre.ipynb",
      "provenance": [],
      "authorship_tag": "ABX9TyPi/GpWEgY7oLOSubM1G02K",
      "include_colab_link": true
    },
    "kernelspec": {
      "name": "python3",
      "display_name": "Python 3"
    }
  },
  "cells": [
    {
      "cell_type": "markdown",
      "metadata": {
        "id": "view-in-github",
        "colab_type": "text"
      },
      "source": [
        "<a href=\"https://colab.research.google.com/github/GabrielaRodriguez29/daa_2021_1/blob/master/8Diciembre.ipynb\" target=\"_parent\"><img src=\"https://colab.research.google.com/assets/colab-badge.svg\" alt=\"Open In Colab\"/></a>"
      ]
    },
    {
      "cell_type": "code",
      "metadata": {
        "colab": {
          "base_uri": "https://localhost:8080/"
        },
        "id": "lLgPT7bV2oQD",
        "outputId": "c2e390d7-6bb3-4f7f-ba8e-7a715fdb29cd"
      },
      "source": [
        "\n",
        "alumno1={'id':2, 'nombre':\"Juan\" , 'carrera':\"ICO\", 'promedio':7.67}\n",
        "alumno2={'id':4, 'nombre':\"Rocio\" , 'carrera':\"ICI\", 'promedio':8.67}\n",
        "alumno3={'id':5, 'nombre':\"Diego\" , 'carrera':\"DER\", 'promedio':8.98}\n",
        "alumno4={'id':7, 'nombre':\"May\" , 'carrera':\"ICI\", 'promedio':9.87}\n",
        "alumno5={'id':9, 'nombre':\"Rob\" , 'carrera':\"IME\", 'promedio':10.00}\n",
        "alumno6={'id':10, 'nombre':\"Santi\" , 'carrera':\"ICO\", 'promedio':5.37}\n",
        "alumno7={'id':14, 'nombre':\"Moy\" , 'carrera':\"IME\", 'promedio':6.85}\n",
        "alumno8={'id':16, 'nombre':\"Diana\" , 'carrera':\"DER\", 'promedio':9.99}\n",
        "alumno9={'id':19, 'nombre':\"Zoila\" , 'carrera':\"ICO\", 'promedio':8.22}\n",
        "alumno10={'id':22, 'nombre':\"Armando\" , 'carrera':\"ICO\", 'promedio':7.32}\n",
        "\n",
        "bd = []\n",
        "bd.append(alumno1)\n",
        "bd.append(alumno2)\n",
        "bd.append(alumno3)\n",
        "bd.append(alumno4)\n",
        "bd.append(alumno5)\n",
        "bd.append(alumno6)\n",
        "bd.append(alumno7)\n",
        "bd.append(alumno8)\n",
        "bd.append(alumno9)\n",
        "bd.append(alumno10)\n",
        "\n",
        "print(bd)\n",
        "id = int(input(\"Proporcione el Id del alumno del que desea obtener información: \"))\n",
        "\n",
        "def busqueda(id, lista, inicio, fin):\n",
        "    mit = (inicio + fin) // 2\n",
        "    if inicio >= fin:\n",
        "        print(\"El Id no es correcto, no existe registro del alumno\")\n",
        "    elif lista[mit].get('id') == id:\n",
        "        return mit\n",
        "    elif lista[mit].get('id') < id:\n",
        "        return busqueda(id, lista, (mit + 1), fin)\n",
        "    else:\n",
        "        return busqueda(id, lista, inicio, mit)\n",
        "\n",
        "resultado = busqueda(id, bd, 0, len(bd))\n",
        "print(f\"{bd[resultado].get('nombre')} estudia en la carrera de {bd[resultado].get('carrera')} y su promedio es de: {bd[resultado].get('promedio')}\")"
      ],
      "execution_count": 3,
      "outputs": [
        {
          "output_type": "stream",
          "text": [
            "[{'id': 2, 'nombre': 'Juan', 'carrera': 'ICO', 'promedio': 7.67}, {'id': 4, 'nombre': 'Rocio', 'carrera': 'ICI', 'promedio': 8.67}, {'id': 5, 'nombre': 'Diego', 'carrera': 'DER', 'promedio': 8.98}, {'id': 7, 'nombre': 'May', 'carrera': 'ICI', 'promedio': 9.87}, {'id': 9, 'nombre': 'Rob', 'carrera': 'IME', 'promedio': 10.0}, {'id': 10, 'nombre': 'Santi', 'carrera': 'ICO', 'promedio': 5.37}, {'id': 14, 'nombre': 'Moy', 'carrera': 'IME', 'promedio': 6.85}, {'id': 16, 'nombre': 'Diana', 'carrera': 'DER', 'promedio': 9.99}, {'id': 19, 'nombre': 'Zoila', 'carrera': 'ICO', 'promedio': 8.22}, {'id': 22, 'nombre': 'Armando', 'carrera': 'ICO', 'promedio': 7.32}]\n",
            "Proporcione el Id del alumno del que desea obtener información: 2\n",
            "Juan estudia en la carrera de ICO y su promedio es de: 7.67\n"
          ],
          "name": "stdout"
        }
      ]
    }
  ]
}