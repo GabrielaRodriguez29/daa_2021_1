{
  "nbformat": 4,
  "nbformat_minor": 0,
  "metadata": {
    "colab": {
      "name": "23Noviembre.ipynb",
      "provenance": [],
      "authorship_tag": "ABX9TyMwACWtkGEX6VEIKk98ekG+",
      "include_colab_link": true
    },
    "kernelspec": {
      "name": "python3",
      "display_name": "Python 3"
    }
  },
  "cells": [
    {
      "cell_type": "markdown",
      "metadata": {
        "id": "view-in-github",
        "colab_type": "text"
      },
      "source": [
        "<a href=\"https://colab.research.google.com/github/GabrielaRodriguez29/daa_2021_1/blob/master/23Noviembre.ipynb\" target=\"_parent\"><img src=\"https://colab.research.google.com/assets/colab-badge.svg\" alt=\"Open In Colab\"/></a>"
      ]
    },
    {
      "cell_type": "code",
      "metadata": {
        "id": "-bSnYcXDzPmQ",
        "colab": {
          "base_uri": "https://localhost:8080/"
        },
        "outputId": "2fb5a10f-21fe-4dc4-dacf-24eb4c6f55e3"
      },
      "source": [
        "import re, string\n",
        "lema = \"El lema que anima a la Universidad Nacional, Por mi raza hablará el espíritu, revela la vocación humanística con la que fue concebida. El autor de esta célebre frase, José Vasconcelos, asumió la rectoría en 1920, en una época en que las esperanzas de la Revolución aún estaban vivas, había una gran fe en la Patria y el ánimo redentor se extendía en el ambiente.\"\n",
        "lema= lema.replace(\",\",\"\")\n",
        "lema= lema.replace(\".\",\"\")\n",
        "lema= lema.replace(\"á\", \"a\") \n",
        "lema= lema.replace(\"é\",\"e\")\n",
        "lema= lema.replace(\"í\", \"i\")\n",
        "lema= lema.replace(\"ó\",\"o\")\n",
        "lema= lema.replace(\"ú\",\"u\")\n",
        "lema= lema.replace(\"A\",\"a\")\n",
        "lema= lema.replace(\"B\",\"b\")\n",
        "lema= lema.replace(\"C\",\"c\")\n",
        "lema= lema.replace(\"D\",\"d\")\n",
        "lema= lema.replace(\"E\",\"e\")\n",
        "lema= lema.replace(\"F\",\"f\")\n",
        "lema= lema.replace(\"G\",\"g\")\n",
        "lema= lema.replace(\"H\",\"h\")\n",
        "lema= lema.replace(\"I\",\"i\")\n",
        "lema= lema.replace(\"J\",\"j\")\n",
        "lema= lema.replace(\"K\",\"k\")\n",
        "lema= lema.replace(\"L\",\"l\")\n",
        "lema= lema.replace(\"M\",\"m\")\n",
        "lema= lema.replace(\"N\",\"n\")\n",
        "lema= lema.replace(\"O\",\"o\")\n",
        "lema= lema.replace(\"P\",\"p\")\n",
        "lema= lema.replace(\"Q\",\"q\")\n",
        "lema= lema.replace(\"R\",\"r\")\n",
        "lema= lema.replace(\"S\",\"s\")\n",
        "lema= lema.replace(\"T\",\"t\")\n",
        "lema= lema.replace(\"U\",\"u\")\n",
        "lema= lema.replace(\"V\",\"v\")\n",
        "lema= lema.replace(\"W\",\"w\")\n",
        "lema= lema.replace(\"X\",\"x\")\n",
        "lema= lema.replace(\"Y\",\"y\")\n",
        "lema= lema.replace(\"Z\",\"z\")\n",
        "palabras = lema.split(\" \")\n",
        "print(lema)\n",
        "dicc = dict()\n",
        "for p in palabras:\n",
        "    dicc[p] = dicc.get(p, 0) + 1 \n",
        "print(dicc)"
      ],
      "execution_count": 11,
      "outputs": [
        {
          "output_type": "stream",
          "text": [
            "el lema que anima a la universidad nacional por mi raza hablara el espiritu revela la vocacion humanistica con la que fue concebida el autor de esta celebre frase jose vasconcelos asumio la rectoria en 1920 en una epoca en que las esperanzas de la revolucion aun estaban vivas habia una gran fe en la patria y el animo redentor se extendia en el ambiente\n",
            "{'el': 5, 'lema': 1, 'que': 3, 'anima': 1, 'a': 1, 'la': 6, 'universidad': 1, 'nacional': 1, 'por': 1, 'mi': 1, 'raza': 1, 'hablara': 1, 'espiritu': 1, 'revela': 1, 'vocacion': 1, 'humanistica': 1, 'con': 1, 'fue': 1, 'concebida': 1, 'autor': 1, 'de': 2, 'esta': 1, 'celebre': 1, 'frase': 1, 'jose': 1, 'vasconcelos': 1, 'asumio': 1, 'rectoria': 1, 'en': 5, '1920': 1, 'una': 2, 'epoca': 1, 'las': 1, 'esperanzas': 1, 'revolucion': 1, 'aun': 1, 'estaban': 1, 'vivas': 1, 'habia': 1, 'gran': 1, 'fe': 1, 'patria': 1, 'y': 1, 'animo': 1, 'redentor': 1, 'se': 1, 'extendia': 1, 'ambiente': 1}\n"
          ],
          "name": "stdout"
        }
      ]
    }
  ]
}