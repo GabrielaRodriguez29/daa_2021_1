{
  "nbformat": 4,
  "nbformat_minor": 0,
  "metadata": {
    "colab": {
      "name": "19octubre2.ipynb",
      "provenance": [],
      "authorship_tag": "ABX9TyMJL0KEdh3VWB7kkoondFO2",
      "include_colab_link": true
    },
    "kernelspec": {
      "name": "python3",
      "display_name": "Python 3"
    }
  },
  "cells": [
    {
      "cell_type": "markdown",
      "metadata": {
        "id": "view-in-github",
        "colab_type": "text"
      },
      "source": [
        "<a href=\"https://colab.research.google.com/github/GabrielaRodriguez29/daa_2021_1/blob/master/19octubre2.ipynb\" target=\"_parent\"><img src=\"https://colab.research.google.com/assets/colab-badge.svg\" alt=\"Open In Colab\"/></a>"
      ]
    },
    {
      "cell_type": "code",
      "metadata": {
        "id": "6_4VcIUMnUUN",
        "outputId": "d5955307-0c90-4832-dbcd-136a1810f95c",
        "colab": {
          "base_uri": "https://localhost:8080/",
          "height": 126
        }
      },
      "source": [
        "def ejemplo4(n):\n",
        "  print(\"Nivel1\")\n",
        "  count =0\n",
        "  i=n\n",
        "  while i >= 1:\n",
        "    print(\"Nivel2\")\n",
        "    count+=1\n",
        "    i=i//2\n",
        "  basura=3+2\n",
        "  return count\n",
        "\n",
        "variable= ejemplo4(9)\n",
        "print(variable)"
      ],
      "execution_count": 2,
      "outputs": [
        {
          "output_type": "stream",
          "text": [
            "Nivel1\n",
            "Nivel2\n",
            "Nivel2\n",
            "Nivel2\n",
            "Nivel2\n",
            "4\n"
          ],
          "name": "stdout"
        }
      ]
    }
  ]
}